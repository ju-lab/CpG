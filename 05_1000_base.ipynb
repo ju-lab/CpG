{
 "cells": [
  {
   "cell_type": "code",
   "execution_count": 1,
   "metadata": {},
   "outputs": [
    {
     "ename": "KeyboardInterrupt",
     "evalue": "",
     "output_type": "error",
     "traceback": [
      "\u001b[0;31m---------------------------------------------------------------------------\u001b[0m",
      "\u001b[0;31mKeyboardInterrupt\u001b[0m                         Traceback (most recent call last)",
      "\u001b[0;32m<ipython-input-1-5357aaa4a0a0>\u001b[0m in \u001b[0;36m<module>\u001b[0;34m()\u001b[0m\n\u001b[1;32m     17\u001b[0m \u001b[0;34m\u001b[0m\u001b[0m\n\u001b[1;32m     18\u001b[0m \u001b[0;32mwhile\u001b[0m \u001b[0minfo_line\u001b[0m\u001b[0;34m:\u001b[0m\u001b[0;34m\u001b[0m\u001b[0m\n\u001b[0;32m---> 19\u001b[0;31m     \u001b[0minfo_split\u001b[0m \u001b[0;34m=\u001b[0m \u001b[0minfo_line\u001b[0m\u001b[0;34m.\u001b[0m\u001b[0msplit\u001b[0m\u001b[0;34m(\u001b[0m\u001b[0;34m'\\t'\u001b[0m\u001b[0;34m)\u001b[0m\u001b[0;34m\u001b[0m\u001b[0m\n\u001b[0m\u001b[1;32m     20\u001b[0m     \u001b[0minfo_chr\u001b[0m \u001b[0;34m=\u001b[0m \u001b[0minfo_split\u001b[0m\u001b[0;34m[\u001b[0m\u001b[0;36m0\u001b[0m\u001b[0;34m]\u001b[0m\u001b[0;34m\u001b[0m\u001b[0m\n\u001b[1;32m     21\u001b[0m     \u001b[0minfo_pos\u001b[0m \u001b[0;34m=\u001b[0m \u001b[0mint\u001b[0m\u001b[0;34m(\u001b[0m\u001b[0minfo_split\u001b[0m\u001b[0;34m[\u001b[0m\u001b[0;36m1\u001b[0m\u001b[0;34m]\u001b[0m\u001b[0;34m)\u001b[0m\u001b[0;34m\u001b[0m\u001b[0m\n",
      "\u001b[0;31mKeyboardInterrupt\u001b[0m: "
     ]
    }
   ],
   "source": [
    "import sys, os, gzip\n",
    "chr_num = sys.argv[1]\n",
    "#chr_num = '1'\n",
    "output_file = file(\"signature_1000_chr%s.txt\" % chr_num.replace(\"23\",\"X\"),\"w\")\n",
    "\n",
    "\n",
    "if chr_num == '23' or chr_num == 'X':\n",
    "    info_file = gzip.open(\"/home/users/jhyouk/89_backup_Workstation/jhyouk/CpG_revision/1000Genomes/ALL.chrX.phase3_shapeit2_mvncall_integrated_v1b.20130502.genotypes.vcf.gz\")\n",
    "else:\n",
    "    info_file = gzip.open(\"/home/users/jhyouk/89_backup_Workstation/jhyouk/CpG_revision/1000Genomes/ALL.chr%s.phase3_shapeit2_mvncall_integrated_v5a.20130502.genotypes.vcf.gz\" %chr_num.replace(\"23\",\"X\"))   \n",
    "\n",
    "info_line = info_file.readline().strip()\n",
    "while info_line[0:1] == '#':\n",
    "    info_line = info_file.readline().strip()\n",
    "\n",
    "output_file.write('#CHROM\\tPOS\\tID\\tREF\\tALT\\tAC\\n')\n",
    "\n",
    "while info_line:\n",
    "    info_split = info_line.split('\\t')\n",
    "    info_chr = info_split[0]\n",
    "    info_pos = int(info_split[1])\n",
    "    info_ref = info_split[3]\n",
    "\n",
    "    info_alt = info_split[4].split(',')\n",
    "    for i in info_split[7].split(';'):\n",
    "        if i.split('=')[0] == 'AC':\n",
    "            info_ac = i.split('=')[1].split(',')      \n",
    "    \n",
    "    for j in info_alt:\n",
    "        j_ac = int(info_ac[info_alt.index(j)])\n",
    "        if  j_ac < 44:\n",
    "            output_file.write(\"%s\\t%s\\t.\\t%s\\t%s\\t%s\\n\" %(info_chr,info_pos,info_ref,j,j_ac))\n",
    "\n",
    "    info_line = info_file.readline().strip()\n",
    "output_file.close()\n"
   ]
  },
  {
   "cell_type": "code",
   "execution_count": null,
   "metadata": {},
   "outputs": [],
   "source": []
  }
 ],
 "metadata": {
  "kernelspec": {
   "display_name": "Python 2",
   "language": "python",
   "name": "python2"
  },
  "language_info": {
   "codemirror_mode": {
    "name": "ipython",
    "version": 2
   },
   "file_extension": ".py",
   "mimetype": "text/x-python",
   "name": "python",
   "nbconvert_exporter": "python",
   "pygments_lexer": "ipython2",
   "version": "2.7.16"
  }
 },
 "nbformat": 4,
 "nbformat_minor": 2
}
