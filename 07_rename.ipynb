{
 "cells": [
  {
   "cell_type": "code",
   "execution_count": 4,
   "metadata": {},
   "outputs": [
    {
     "name": "stdout",
     "output_type": "stream",
     "text": [
      "THE END\n"
     ]
    }
   ],
   "source": [
    "import sys, os, gzip\n",
    "chr_num = sys.argv[1]\n",
    "#chr_num = '1'\n",
    "output_file = file(\"union_signature_chr%s.txt\" % chr_num.replace(\"23\",\"X\"),\"w\")\n",
    "\n",
    "info_file = file(\"signature_1000_chr%s.txt\" %chr_num.replace(\"23\",\"X\"))   \n",
    "p_file = file(\"signature_pcawg_chr%s.txt\" %chr_num.replace(\"23\",\"X\"))\n",
    "\n",
    "info_line = info_file.readline().strip()\n",
    "p_line = p_file.readline().strip()\n",
    "info_line = info_file.readline().strip()\n",
    "p_line = p_file.readline().strip()\n",
    "\n",
    "output_file.write('#CHROM\\tPOS\\tID\\tREF\\tALT\\tAC\\n')\n",
    "\n",
    "while info_line:\n",
    "    info_split = info_line.split('\\t')\n",
    "    info_pos = int(info_split[1])\n",
    "    \n",
    "    if p_line != '':\n",
    "        p_split = p_line.split('\\t')\n",
    "        p_pos = int(p_split[1])\n",
    "\n",
    "        if info_pos == p_pos:\n",
    "            output_file.write(info_line+'\\n')\n",
    "            output_file.write(p_line+'\\n')\n",
    "            info_line = info_file.readline().strip()\n",
    "            p_line = p_file.readline().strip()\n",
    "        elif info_pos < p_pos:\n",
    "            output_file.write(info_line+'\\n')\n",
    "            info_line = info_file.readline().strip()\n",
    "        elif p_pos < info_pos:\n",
    "            output_file.write(p_line+'\\n')\n",
    "            p_line = p_file.readline().strip()\n",
    "    else:\n",
    "        output_file.write(info_line+'\\n')\n",
    "        info_line = info_file.readline().strip()        \n",
    "\n",
    "while p_line:\n",
    "    output_file.write(p_line+'\\n')\n",
    "    p_line = p_file.readline().strip()    \n",
    "\n",
    "    \n",
    "output_file.close()\n",
    "print 'THE END'"
   ]
  },
  {
   "cell_type": "code",
   "execution_count": null,
   "metadata": {},
   "outputs": [],
   "source": []
  }
 ],
 "metadata": {
  "kernelspec": {
   "display_name": "Python 2",
   "language": "python",
   "name": "python2"
  },
  "language_info": {
   "codemirror_mode": {
    "name": "ipython",
    "version": 2
   },
   "file_extension": ".py",
   "mimetype": "text/x-python",
   "name": "python",
   "nbconvert_exporter": "python",
   "pygments_lexer": "ipython2",
   "version": "2.7.16"
  }
 },
 "nbformat": 4,
 "nbformat_minor": 2
}
